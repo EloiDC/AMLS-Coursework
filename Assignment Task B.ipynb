{
 "cells": [
  {
   "cell_type": "markdown",
   "metadata": {},
   "source": [
    "# Task B"
   ]
  },
  {
   "cell_type": "markdown",
   "metadata": {},
   "source": [
    "# SVM"
   ]
  },
  {
   "cell_type": "code",
   "execution_count": 12,
   "metadata": {},
   "outputs": [],
   "source": [
    "# import libraries\n",
    "import numpy as np\n",
    "import matplotlib.pyplot as plt\n",
    "import cv2\n",
    "import pandas as pd\n",
    "import os\n",
    "\n",
    "from sklearn import svm, datasets\n",
    "from sklearn.svm import SVC\n",
    "from sklearn.model_selection import train_test_split\n",
    "from sklearn.utils import shuffle\n",
    "from sklearn.metrics import classification_report,accuracy_score\n",
    "from sklearn.datasets import load_iris\n",
    "from sklearn.linear_model import LogisticRegression\n",
    "from sklearn.neighbors import KNeighborsClassifier\n",
    "from sklearn import metrics\n",
    "from sklearn.ensemble import RandomForestClassifier\n",
    "from sklearn import tree\n",
    "from sklearn.metrics import confusion_matrix, ConfusionMatrixDisplay\n",
    "from PIL import Image"
   ]
  },
  {
   "cell_type": "code",
   "execution_count": 2,
   "metadata": {},
   "outputs": [],
   "source": [
    "#store labels in arrays\n",
    "train_label_path = fr\"C:\\Users\\eloid\\OneDrive\\Documents\\Eloi\\University\\UCL\\Year 4\\Machine Learning\\Coursework\\dataset\\label.csv\"\n",
    "test_label_path = fr\"C:\\Users\\eloid\\OneDrive\\Documents\\Eloi\\University\\UCL\\Year 4\\Machine Learning\\Coursework\\test\\label.csv\"\n",
    "\n",
    "train_labels = pd.read_csv(train_label_path)\n",
    "test_labels = pd.read_csv(test_label_path)\n"
   ]
  },
  {
   "cell_type": "code",
   "execution_count": 3,
   "metadata": {},
   "outputs": [],
   "source": [
    "#store images in arrays\n",
    "train_images = []\n",
    "for i in range(3000):\n",
    "    train_images.append(fr\"C:\\Users\\eloid\\OneDrive\\Documents\\Eloi\\University\\UCL\\Year 4\\Machine Learning\\Coursework\\dataset\\image\\IMAGE_{i:04}.jpg\".format(i))\n",
    "\n",
    "test_images = []\n",
    "for i in range(3000):\n",
    "    test_images.append(fr\"C:\\Users\\eloid\\OneDrive\\Documents\\Eloi\\University\\UCL\\Year 4\\Machine Learning\\Coursework\\dataset\\image\\IMAGE_{i:04}.jpg\".format(i))\n",
    "    "
   ]
  },
  {
   "cell_type": "code",
   "execution_count": 38,
   "metadata": {},
   "outputs": [],
   "source": [
    "X = []\n",
    "y = []\n",
    "\n",
    "#this is the new test dataset provided\n",
    "x_testdata = []\n",
    "y_testdata = []\n",
    "\n",
    "#iterate through the labels and images and store them in the lists\n",
    "for i in range (3000):\n",
    "    im = cv2.imread(train_images[i], cv2.IMREAD_GRAYSCALE)\n",
    "    X.append(im)\n",
    "    y.append(train_labels.loc[i, \"label\"])\n",
    "    \n",
    "for i in range (200):\n",
    "    im_test = cv2.imread(test_images[i], cv2.IMREAD_GRAYSCALE)\n",
    "    x_testdata.append(im_test)\n",
    "    y_testdata.append(test_labels.loc[i, \"label\"])"
   ]
  },
  {
   "cell_type": "code",
   "execution_count": 20,
   "metadata": {},
   "outputs": [],
   "source": [
    "#turn them into arrays\n",
    "X = np.array(X)\n",
    "y = np.array(y)\n",
    "x_testdata = np.array(x_testdata)\n",
    "y_testdata = np.array(y_testdata)"
   ]
  },
  {
   "cell_type": "code",
   "execution_count": 21,
   "metadata": {},
   "outputs": [
    {
     "data": {
      "text/plain": [
       "(3000, 512, 512)"
      ]
     },
     "execution_count": 21,
     "metadata": {},
     "output_type": "execute_result"
    }
   ],
   "source": [
    "X.shape"
   ]
  },
  {
   "cell_type": "code",
   "execution_count": 22,
   "metadata": {},
   "outputs": [],
   "source": [
    "#transform image data from 3 dimensions to a dimension that the SVM can use \n",
    "X =  X.reshape(len(X), -1)\n",
    "x_testdata = x_testdata.reshape(len(x_testdata), -1)"
   ]
  },
  {
   "cell_type": "code",
   "execution_count": 26,
   "metadata": {},
   "outputs": [],
   "source": [
    "#split the given training dataset into test and train sets used to train the models\n",
    "x_train,x_test,y_train,y_test = train_test_split(X, y, test_size=0.20, shuffle = True)"
   ]
  },
  {
   "cell_type": "code",
   "execution_count": 28,
   "metadata": {},
   "outputs": [
    {
     "data": {
      "text/plain": [
       "(2400, 262144)"
      ]
     },
     "execution_count": 28,
     "metadata": {},
     "output_type": "execute_result"
    }
   ],
   "source": [
    "x_train.shape\n",
    "y_train.shape"
   ]
  },
  {
   "cell_type": "markdown",
   "metadata": {},
   "source": [
    "y_multi = []\n",
    "\n",
    "for i in range (3000):\n",
    "    im = cv2.imread(train_images[i], cv2.IMREAD_GRAYSCALE)\n",
    "    X.append(im)\n",
    "    y_multi.append(train_labels.loc[i, \"label\"])\n"
   ]
  },
  {
   "cell_type": "markdown",
   "metadata": {},
   "source": [
    "y_multi = np.array(y_multi)\n",
    "X = np.array(X)"
   ]
  },
  {
   "cell_type": "code",
   "execution_count": 143,
   "metadata": {},
   "outputs": [
    {
     "data": {
      "text/plain": [
       "(3000, 512, 512)"
      ]
     },
     "execution_count": 143,
     "metadata": {},
     "output_type": "execute_result"
    }
   ],
   "source": [
    "X.shape"
   ]
  },
  {
   "cell_type": "code",
   "execution_count": 29,
   "metadata": {},
   "outputs": [],
   "source": [
    "#create the different kernels that will be used to test which one works best\n",
    "linear = svm.SVC(kernel='linear', C=1, decision_function_shape='ovo')\n",
    "rbf = svm.SVC(kernel='rbf', gamma=1, C=1, decision_function_shape='ovo')\n",
    "poly = svm.SVC(kernel='poly', degree=3, C=1, decision_function_shape='ovo')\n",
    "sig = svm.SVC(kernel='sigmoid', C=1, decision_function_shape='ovo')"
   ]
  },
  {
   "cell_type": "code",
   "execution_count": 30,
   "metadata": {},
   "outputs": [
    {
     "data": {
      "text/plain": [
       "SVC(C=1, decision_function_shape='ovo', kernel='sigmoid')"
      ]
     },
     "execution_count": 30,
     "metadata": {},
     "output_type": "execute_result"
    }
   ],
   "source": [
    "#train the kernels on the data\n",
    "linear.fit(x_train, y_train)\n",
    "rbf.fit(x_train, y_train)\n",
    "poly.fit(x_train, y_train)\n",
    "sig.fit(x_train, y_train)"
   ]
  },
  {
   "cell_type": "code",
   "execution_count": 31,
   "metadata": {},
   "outputs": [
    {
     "name": "stdout",
     "output_type": "stream",
     "text": [
      "Accuracy Linear Kernel: 0.835\n",
      "Accuracy Polynomial Kernel: 0.8483333333333334\n",
      "Accuracy Radial Basis Kernel: 0.455\n",
      "Accuracy Sigmoid Kernel: 0.25\n"
     ]
    }
   ],
   "source": [
    "#output the accuracy of the kernels\n",
    "linear_pred = linear.predict(x_test)\n",
    "poly_pred = poly.predict(x_test)\n",
    "rbf_pred = rbf.predict(x_test)\n",
    "sig_pred = sig.predict(x_test)\n",
    "\n",
    "accuracy_lin = linear.score(x_test, y_test)\n",
    "accuracy_poly = poly.score(x_test, y_test)\n",
    "accuracy_rbf = rbf.score(x_test, y_test)\n",
    "accuracy_sig = sig.score(x_test, y_test)\n",
    "\n",
    "print(\"Accuracy Linear Kernel:\", accuracy_lin)\n",
    "print(\"Accuracy Polynomial Kernel:\", accuracy_poly)\n",
    "print(\"Accuracy Radial Basis Kernel:\", accuracy_rbf)\n",
    "print(\"Accuracy Sigmoid Kernel:\", accuracy_sig)"
   ]
  },
  {
   "cell_type": "code",
   "execution_count": 37,
   "metadata": {},
   "outputs": [
    {
     "data": {
      "image/png": "[encoded data removed]",
      "text/plain": [
       "<Figure size 432x288 with 2 Axes>"
      ]
     },
     "metadata": {
      "needs_background": "light"
     },
     "output_type": "display_data"
    }
   ],
   "source": [
    "#plot the confusion matrix\n",
    "cm = confusion_matrix(y_test, linear_pred, labels=linear.classes_)\n",
    "disp = ConfusionMatrixDisplay(confusion_matrix=cm, display_labels=linear.classes_)\n",
    "disp.plot(cmap='viridis', xticks_rotation='45')\n",
    "plt.show()"
   ]
  }
 ],
 "metadata": {
  "kernelspec": {
   "display_name": "Python 3 (ipykernel)",
   "language": "python",
   "name": "python3"
  },
  "language_info": {
   "codemirror_mode": {
    "name": "ipython",
    "version": 3
   },
   "file_extension": ".py",
   "mimetype": "text/x-python",
   "name": "python",
   "nbconvert_exporter": "python",
   "pygments_lexer": "ipython3",
   "version": "3.8.12"
  }
 },
 "nbformat": 4,
 "nbformat_minor": 4
}
